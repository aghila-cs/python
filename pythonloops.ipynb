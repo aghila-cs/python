{
  "nbformat": 4,
  "nbformat_minor": 0,
  "metadata": {
    "colab": {
      "provenance": [],
      "include_colab_link": true
    },
    "kernelspec": {
      "name": "python3",
      "display_name": "Python 3"
    },
    "language_info": {
      "name": "python"
    }
  },
  "cells": [
    {
      "cell_type": "markdown",
      "metadata": {
        "id": "view-in-github",
        "colab_type": "text"
      },
      "source": [
        "<a href=\"https://colab.research.google.com/github/aghila-cs/python/blob/main/pythonloops.ipynb\" target=\"_parent\"><img src=\"https://colab.research.google.com/assets/colab-badge.svg\" alt=\"Open In Colab\"/></a>"
      ]
    },
    {
      "cell_type": "code",
      "execution_count": null,
      "metadata": {
        "colab": {
          "base_uri": "https://localhost:8080/"
        },
        "id": "JhUFHXDW9Hb3",
        "outputId": "bb6380a3-dc86-4817-a4d3-e385d34fd30a"
      },
      "outputs": [
        {
          "output_type": "stream",
          "name": "stdout",
          "text": [
            "Enter Age of First Person45\n",
            "Enter Age of Second Person21\n",
            "Enter Age of Third Person9\n",
            "Oldest Person 45\n",
            "Youngest Person 9\n"
          ]
        }
      ],
      "source": [
        "Age1 = int(input(\"Enter Age of First Person\"))\n",
        "Age2 = int(input(\"Enter Age of Second Person\"))\n",
        "Age3 = int(input(\"Enter Age of Third Person\"))\n",
        "\n",
        "print(\"Oldest Person\",max(Age1,Age2,Age3))\n",
        "print(\"Youngest Person\",min(Age1,Age2,Age3))"
      ]
    },
    {
      "cell_type": "code",
      "source": [
        "Mark = int(input(\"Enter Your Marks\"))\n",
        "\n",
        "if Mark >= 90:\n",
        "    print(\"Grade A\")\n",
        "elif Mark >= 80:\n",
        "    print(\"Grade B\")\n",
        "elif Mark >= 70:\n",
        "    Print(\"Grade C\")\n",
        "else:\n",
        "    print(\"Grade F\")\n",
        "\n"
      ],
      "metadata": {
        "colab": {
          "base_uri": "https://localhost:8080/"
        },
        "id": "605rTnQd90-f",
        "outputId": "efdd91c4-feea-467f-e01b-acac31df5986"
      },
      "execution_count": null,
      "outputs": [
        {
          "output_type": "stream",
          "name": "stdout",
          "text": [
            "Enter Your Marks87\n",
            "Grade B\n"
          ]
        }
      ]
    },
    {
      "cell_type": "code",
      "source": [
        "items = input(\"Enter the grocery items separated by commas: \").split(',')\n",
        "items1 = items.sort()\n",
        "print(items)\n"
      ],
      "metadata": {
        "colab": {
          "base_uri": "https://localhost:8080/"
        },
        "id": "D1P3hieC_Zle",
        "outputId": "d1eceb4d-1c4f-48b4-ba60-9979abfa0f11"
      },
      "execution_count": null,
      "outputs": [
        {
          "output_type": "stream",
          "name": "stdout",
          "text": [
            "Enter the grocery items separated by commas: pen,book,scale,rubber,pencil\n",
            "['book', 'pen', 'pencil', 'rubber', 'scale']\n"
          ]
        }
      ]
    },
    {
      "cell_type": "code",
      "source": [
        "Email = input(\"Enter Your Email Address:\")\n",
        "if '@' in Email:\n",
        "    print (\"Valid Email\")\n",
        "else :\n",
        "    print(\"Invalid Email\")"
      ],
      "metadata": {
        "colab": {
          "base_uri": "https://localhost:8080/"
        },
        "id": "N7Jr61lTMqFj",
        "outputId": "7e9226ac-78a5-4bf7-c7db-8a403a219c6d"
      },
      "execution_count": null,
      "outputs": [
        {
          "output_type": "stream",
          "name": "stdout",
          "text": [
            "Enter Your Email Address:adiyjya123.com\n",
            "Invalid Email\n"
          ]
        }
      ]
    },
    {
      "cell_type": "code",
      "source": [
        "Number_of_Days = int(input(\"Enter Number of Days:\"))\n",
        "if Number_of_Days <= 7:\n",
        "  print(\"There is No Fine\")\n",
        "elif Number_of_Days <= 30:\n",
        "  print(\"Fine is\",Number_of_Days*2)\n",
        "else:\n",
        "  print(\"Fine is\",Number_of_Days*5)\n",
        "\n",
        "\n"
      ],
      "metadata": {
        "colab": {
          "base_uri": "https://localhost:8080/"
        },
        "id": "oLCkUkqWNysB",
        "outputId": "c9f0ffe6-ba32-4e99-c2e8-6fa46f12c8e3"
      },
      "execution_count": null,
      "outputs": [
        {
          "output_type": "stream",
          "name": "stdout",
          "text": [
            "Enter Number of Days:40\n",
            "Fine is 200\n"
          ]
        }
      ]
    },
    {
      "cell_type": "code",
      "source": [
        "\n",
        "Character = str(input(\"Enter a Character:\"))\n",
        "Character.lower()\n",
        "Vowels = (\"a\",\"e\",\"i\",\"o\",\"u\")\n",
        "if Character in Vowels:\n",
        "   print(\"It is a Vowel\")\n",
        "else:\n",
        "  print(\"It is not a Vowel\")"
      ],
      "metadata": {
        "colab": {
          "base_uri": "https://localhost:8080/"
        },
        "id": "uTNDlX1rPwO5",
        "outputId": "272e8895-abaa-4237-c0d0-669c5f03f444"
      },
      "execution_count": null,
      "outputs": [
        {
          "output_type": "stream",
          "name": "stdout",
          "text": [
            "Enter a Character:e\n",
            "It is a Vowel\n"
          ]
        }
      ]
    },
    {
      "cell_type": "code",
      "source": [
        "num = int(input(\"Enter a number: \"))\n",
        "factorial = 1\n",
        "\n",
        "for i in range(1, num + 1):\n",
        "    factorial *= i\n",
        "\n",
        "print(\"The factorial of\", num, \"is\",factorial)"
      ],
      "metadata": {
        "colab": {
          "base_uri": "https://localhost:8080/"
        },
        "id": "Q1B2NNAuRSdC",
        "outputId": "9d1c1bea-ef6f-4ccc-a6c4-1912dd070f9b"
      },
      "execution_count": null,
      "outputs": [
        {
          "output_type": "stream",
          "name": "stdout",
          "text": [
            "Enter a number: 4\n",
            "The factorial of 4 is 24\n"
          ]
        }
      ]
    },
    {
      "cell_type": "code",
      "source": [
        "limit = int(input(\"Enter the limit for Fibonacci sequence: \"))\n",
        "a, b = 0, 1\n",
        "\n",
        "print(\"Fibonacci sequence:\")\n",
        "while a <= limit:\n",
        "    print(a, end=' ')\n",
        "    a, b = b, a + b\n"
      ],
      "metadata": {
        "colab": {
          "base_uri": "https://localhost:8080/"
        },
        "id": "vZolR_uQTM3u",
        "outputId": "7b9d5350-1f09-4f8e-ae04-d9d8fa5440f1"
      },
      "execution_count": null,
      "outputs": [
        {
          "output_type": "stream",
          "name": "stdout",
          "text": [
            "Enter the limit for Fibonacci sequence: 4\n",
            "Fibonacci sequence:\n",
            "0 1 1 2 3 "
          ]
        }
      ]
    },
    {
      "cell_type": "code",
      "source": [
        "import random\n",
        "\n",
        "number = random.randint(1, 100)\n",
        "attempts = 0\n",
        "guess = 0\n",
        "\n",
        "while guess != number:\n",
        "    guess = int(input(\"Guess the number between 1 and 100: \"))\n",
        "    attempts += 1\n",
        "\n",
        "    if guess < number:\n",
        "        print(\"Too low!\")\n",
        "    elif guess > number:\n",
        "        print(\"Too high!\")\n",
        "    else:\n",
        "        print(\"Congratulations! You've guessed the number in \",attempts,\"attempts\")"
      ],
      "metadata": {
        "colab": {
          "base_uri": "https://localhost:8080/"
        },
        "id": "r6MWULrGUqQE",
        "outputId": "15217524-3b63-4b8a-9b61-837187c32151"
      },
      "execution_count": null,
      "outputs": [
        {
          "output_type": "stream",
          "name": "stdout",
          "text": [
            "Guess the number between 1 and 100: 10\n",
            "Too low!\n",
            "Guess the number between 1 and 100: 80\n",
            "Too high!\n",
            "Guess the number between 1 and 100: 50\n",
            "Too high!\n",
            "Guess the number between 1 and 100: 30\n",
            "Too low!\n",
            "Guess the number between 1 and 100: 34\n",
            "Too low!\n",
            "Guess the number between 1 and 100: 35\n",
            "Too low!\n",
            "Guess the number between 1 and 100: 38\n",
            "Too low!\n",
            "Guess the number between 1 and 100: 45\n",
            "Too high!\n",
            "Guess the number between 1 and 100: 39\n",
            "Too low!\n",
            "Guess the number between 1 and 100: 42\n",
            "Too low!\n",
            "Guess the number between 1 and 100: 44\n",
            "Too high!\n",
            "Guess the number between 1 and 100: 43\n",
            "Congratulations! You've guessed the number in  12 attempts\n"
          ]
        }
      ]
    },
    {
      "cell_type": "code",
      "source": [
        "def addition(a, b):\n",
        "    return a + b\n",
        "\n",
        "def subtraction(a, b):\n",
        "    return a - b\n",
        "\n",
        "def multiplication(a, b):\n",
        "    return a * b\n",
        "\n",
        "def division(a, b):\n",
        "    if b != 0:\n",
        "        return a / b\n",
        "    else:\n",
        "        return \"Cannot divide by zero\"\n",
        "\n",
        "while True:\n",
        "    print(\"\\nMenu:\")\n",
        "    print(\"a. Addition\")\n",
        "    print(\"b. Subtraction\")\n",
        "    print(\"c. Division\")\n",
        "    print(\"d. Multiplication\")\n",
        "    print(\"e. Exit\")\n",
        "\n",
        "    choice = input(\"Enter your choice: \")\n",
        "\n",
        "    if choice in ['a', 'b', 'c', 'd']:\n",
        "        num1 = float(input(\"Enter first number: \"))\n",
        "        num2 = float(input(\"Enter second number: \"))\n",
        "\n",
        "        if choice == 'a':\n",
        "            print(\"Result: \",addition(num1, num2))\n",
        "        elif choice == 'b':\n",
        "            print(\"Result:\",subtraction(num1, num2))\n",
        "        elif choice == 'c':\n",
        "            print(\"Result: \",division(num1, num2))\n",
        "        elif choice == 'd':\n",
        "            print(\"Result:\",multiplication(num1, num2))\n",
        "    elif choice == 'e':\n",
        "        print(\"Exiting the calculator.\")\n",
        "        break\n",
        "    else:\n",
        "        print(\"Invalid choice! Please try again.\")\n"
      ],
      "metadata": {
        "id": "Y8lX0KhCYori",
        "colab": {
          "base_uri": "https://localhost:8080/"
        },
        "outputId": "b30da279-09af-40b1-904d-bad98daf1059"
      },
      "execution_count": null,
      "outputs": [
        {
          "output_type": "stream",
          "name": "stdout",
          "text": [
            "\n",
            "Menu:\n",
            "a. Addition\n",
            "b. Subtraction\n",
            "c. Division\n",
            "d. Multiplication\n",
            "e. Exit\n",
            "Enter your choice: a\n",
            "Enter first number: 2\n",
            "Enter second number: 7\n",
            "Result:  9.0\n",
            "\n",
            "Menu:\n",
            "a. Addition\n",
            "b. Subtraction\n",
            "c. Division\n",
            "d. Multiplication\n",
            "e. Exit\n",
            "Enter your choice: c\n",
            "Enter first number: 7\n",
            "Enter second number: 8\n",
            "Result:  0.875\n",
            "\n",
            "Menu:\n",
            "a. Addition\n",
            "b. Subtraction\n",
            "c. Division\n",
            "d. Multiplication\n",
            "e. Exit\n",
            "Enter your choice: b\n",
            "Enter first number: 1\n",
            "Enter second number: 4\n",
            "Result: -3.0\n",
            "\n",
            "Menu:\n",
            "a. Addition\n",
            "b. Subtraction\n",
            "c. Division\n",
            "d. Multiplication\n",
            "e. Exit\n",
            "Enter your choice: d\n",
            "Enter first number: 2\n",
            "Enter second number: 4\n",
            "Result: 8.0\n",
            "\n",
            "Menu:\n",
            "a. Addition\n",
            "b. Subtraction\n",
            "c. Division\n",
            "d. Multiplication\n",
            "e. Exit\n",
            "Enter your choice: e\n",
            "Exiting the calculator.\n"
          ]
        }
      ]
    }
  ]
}